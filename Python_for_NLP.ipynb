{
 "cells": [
  {
   "cell_type": "code",
   "execution_count": 1,
   "metadata": {},
   "outputs": [
    {
     "data": {
      "text/plain": [
       "1"
      ]
     },
     "execution_count": 1,
     "metadata": {},
     "output_type": "execute_result"
    }
   ],
   "source": [
    "# Group Members:\n",
    "# Sheikh Md Hanif Hossain - 1534721\n",
    "# SHABAB ABDULLAH OMAR FAROOQUE - 1628543\n",
    "\n",
    "\n",
    "\n",
    "\n",
    "def word_freq(filename):\n",
    "    \"\"\"\n",
    "    This function will take a file as argument and will\n",
    "    return a dictionary containing each unique word in the file\n",
    "    as keys and word frequency as vlaue\n",
    "    \"\"\"\n",
    "    with open(filename, 'r') as fopen:\n",
    "        f = fopen.read()\n",
    "    d = {}\n",
    "    f = f.lower()\n",
    "    for word in f.split():\n",
    "        if word not in d:\n",
    "            d[word] = 1\n",
    "        else:\n",
    "            d[word] += 1\n",
    "    return d\n",
    "\n",
    "\n",
    "\n",
    "def write_file(filename):\n",
    "    \"\"\"\n",
    "    This function will take the a file as input and\n",
    "    find the ocuurance of 'of' word and words which ends with\n",
    "    'ly'. Finally it will write the result in a text file and return.\n",
    "    \"\"\"\n",
    "    dic = word_freq(filename)\n",
    "    count_of = dic['of']\n",
    "    \n",
    "    ends_ly = []\n",
    "    for keys in dic:\n",
    "        if keys.endswith('ly'):\n",
    "            ends_ly.append(keys) \n",
    "    with open('output/results.txt', 'w') as f:\n",
    "        res = f.write(str(ends_ly))\n",
    "        res = f.write('\\n')\n",
    "        res = f.write(str(count_of))\n",
    "    return res\n",
    "\n",
    "\n",
    "\n",
    "filename = 'data/exercise.txt'\n",
    "write_file(filename)"
   ]
  },
  {
   "cell_type": "code",
   "execution_count": null,
   "metadata": {},
   "outputs": [],
   "source": []
  }
 ],
 "metadata": {
  "kernelspec": {
   "display_name": "Python 3",
   "language": "python",
   "name": "python3"
  },
  "language_info": {
   "codemirror_mode": {
    "name": "ipython",
    "version": 3
   },
   "file_extension": ".py",
   "mimetype": "text/x-python",
   "name": "python",
   "nbconvert_exporter": "python",
   "pygments_lexer": "ipython3",
   "version": "3.7.1"
  }
 },
 "nbformat": 4,
 "nbformat_minor": 2
}
