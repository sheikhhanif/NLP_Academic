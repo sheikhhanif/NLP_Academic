{
 "cells": [
  {
   "cell_type": "code",
   "execution_count": 1,
   "metadata": {},
   "outputs": [],
   "source": [
    "# Group Members:\n",
    "# Sheikh Md Hanif Hossain - 1534721\n",
    "# SHABAB ABDULLAH OMAR FAROOQUE - 1628543\n",
    "\n",
    "\n",
    "import re\n",
    "\n",
    "def get_info(file):\n",
    "    \"\"\"\n",
    "    This function will read a file and scrap over it\n",
    "    to find websites url, contact info and emial address and\n",
    "    write in a file as output\n",
    "    \"\"\"\n",
    "    #opeining the file to read\n",
    "    with open(file,'r') as f:\n",
    "        txt_search = f.read()\n",
    "    \n",
    "    #opening a file write\n",
    "    output_file = open('data/track.log', 'w')\n",
    "    \n",
    "    # finding eamil and write in a file\n",
    "    emails = re.findall(r'[\\w\\.-]+@[\\w\\.-]+', txt_search)\n",
    "    \n",
    "    output_file.write(\"\\nEmail Address\\n*****************\\n\")\n",
    "    for email in emails:\n",
    "        output_file.write(email)\n",
    "        output_file.write('\\n')\n",
    "        \n",
    "    # finding websites  and write in the file\n",
    "    pattern = re.compile(r'(www.|http://|http://www.)+[\\w\\.-]+')\n",
    "    match_web = pattern.finditer(txt_search)\n",
    "\n",
    "    output_file.write(\"\\nWebsite Names\\n*****************\\n\")\n",
    "    for m in match_web:\n",
    "        output_file.write(m.group(0))\n",
    "        output_file.write('\\n')\n",
    "        \n",
    "    #finding phone no and write in the file\n",
    "    pattern = re.compile(r'[+][6]0[\\s0-9]*[-0-9]*[\\s0-9]\\d{4}')\n",
    "    match_phone = pattern.finditer(txt_search)\n",
    "    output_file.write(\"\\nContact No\\n*****************\\n\")\n",
    "    for m in match_phone:\n",
    "        output_file.write(m.group(0))\n",
    "        output_file.write('\\n')\n",
    "    \n",
    "    output_file.close()\n",
    "\n",
    "# Calling the function to get our job done\n",
    "file = 'data/clients.dat'\n",
    "get_info(file)"
   ]
  },
  {
   "cell_type": "code",
   "execution_count": null,
   "metadata": {},
   "outputs": [],
   "source": []
  }
 ],
 "metadata": {
  "kernelspec": {
   "display_name": "Python 3",
   "language": "python",
   "name": "python3"
  },
  "language_info": {
   "codemirror_mode": {
    "name": "ipython",
    "version": 3
   },
   "file_extension": ".py",
   "mimetype": "text/x-python",
   "name": "python",
   "nbconvert_exporter": "python",
   "pygments_lexer": "ipython3",
   "version": "3.6.8"
  }
 },
 "nbformat": 4,
 "nbformat_minor": 2
}
